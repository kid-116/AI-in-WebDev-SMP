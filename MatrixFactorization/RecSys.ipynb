{
  "nbformat": 4,
  "nbformat_minor": 0,
  "metadata": {
    "colab": {
      "name": "AI-in-WebDev_RecSys.ipynb",
      "provenance": [],
      "collapsed_sections": [],
      "authorship_tag": "ABX9TyMF7RdeWBf+N7RyzT9s6MNX",
      "include_colab_link": true
    },
    "kernelspec": {
      "name": "python3",
      "display_name": "Python 3"
    },
    "language_info": {
      "name": "python"
    },
    "accelerator": "GPU"
  },
  "cells": [
    {
      "cell_type": "markdown",
      "metadata": {
        "id": "view-in-github",
        "colab_type": "text"
      },
      "source": [
        "<a href=\"https://colab.research.google.com/github/kid-116/AI-in-WebDev-SMP/blob/main/MatrixFactorization/RecSys.ipynb\" target=\"_parent\"><img src=\"https://colab.research.google.com/assets/colab-badge.svg\" alt=\"Open In Colab\"/></a>"
      ]
    },
    {
      "cell_type": "markdown",
      "metadata": {
        "id": "3xD2ZXIkjMCy"
      },
      "source": [
        "<h1>Recommender Sysytem</h1>\n",
        "<h2>by kid116</h2>"
      ]
    },
    {
      "cell_type": "markdown",
      "metadata": {
        "id": "fPFbUk83jTZi"
      },
      "source": [
        "<h3>Importing Libraries</h3>"
      ]
    },
    {
      "cell_type": "code",
      "metadata": {
        "id": "Nzg_Hf6_jWZ9"
      },
      "source": [
        "import numpy as np\n",
        "import tensorflow as tf\n",
        "import pandas as pd\n",
        "import random"
      ],
      "execution_count": 2,
      "outputs": []
    },
    {
      "cell_type": "markdown",
      "metadata": {
        "id": "dbXPHLQejmnd"
      },
      "source": [
        "<h3>The Dataset</h3>"
      ]
    },
    {
      "cell_type": "markdown",
      "metadata": {
        "id": "ErEhghEYou8Q"
      },
      "source": [
        "<h4>Movies</h4>"
      ]
    },
    {
      "cell_type": "code",
      "metadata": {
        "colab": {
          "base_uri": "https://localhost:8080/",
          "height": 204
        },
        "id": "2-Ju7zBtjmIA",
        "outputId": "45d29804-2cb4-408a-cdc8-31eae1f9e34a"
      },
      "source": [
        "data = {\n",
        "    'id': [1, 2, 3, 4, 5, 6, 7, 8, 9, 10],\n",
        "    'name': ['The Godfather', 'Shawshank Redemption', 'Soul', 'Avengers', 'Inception', 'Titanic', \"Schindler's List\", 'American Made', 'Fight Club', 'Kingsglaive'],\n",
        "    'action': [5, 1, 1, 10, 8, 1, 0, 9, 9, 9],\n",
        "    'comedy': [0, 1, 6, 8, 0, 3, 0, 8, 0, 0],\n",
        "    'crime': [10, 8, 1, 1, 7, 3, 6, 9, 9, 3],\n",
        "    'romance': [1, 1, 3, 1, 3, 10, 0, 6, 3, 0],\n",
        "    'thriller': [7, 6, 2, 2, 7, 1, 0, 8, 9, 9],\n",
        "    'fantasy': [0, 0, 7, 8, 8, 0, 0, 0, 0, 10],\n",
        "    'drama': [8, 1, 0, 0, 0, 8, 9, 1, 0, 0],\n",
        "}\n",
        "\n",
        "df = pd.DataFrame(data)\n",
        "\n",
        "df.head()"
      ],
      "execution_count": 3,
      "outputs": [
        {
          "output_type": "execute_result",
          "data": {
            "text/html": [
              "<div>\n",
              "<style scoped>\n",
              "    .dataframe tbody tr th:only-of-type {\n",
              "        vertical-align: middle;\n",
              "    }\n",
              "\n",
              "    .dataframe tbody tr th {\n",
              "        vertical-align: top;\n",
              "    }\n",
              "\n",
              "    .dataframe thead th {\n",
              "        text-align: right;\n",
              "    }\n",
              "</style>\n",
              "<table border=\"1\" class=\"dataframe\">\n",
              "  <thead>\n",
              "    <tr style=\"text-align: right;\">\n",
              "      <th></th>\n",
              "      <th>id</th>\n",
              "      <th>name</th>\n",
              "      <th>action</th>\n",
              "      <th>comedy</th>\n",
              "      <th>crime</th>\n",
              "      <th>romance</th>\n",
              "      <th>thriller</th>\n",
              "      <th>fantasy</th>\n",
              "      <th>drama</th>\n",
              "    </tr>\n",
              "  </thead>\n",
              "  <tbody>\n",
              "    <tr>\n",
              "      <th>0</th>\n",
              "      <td>1</td>\n",
              "      <td>The Godfather</td>\n",
              "      <td>5</td>\n",
              "      <td>0</td>\n",
              "      <td>10</td>\n",
              "      <td>1</td>\n",
              "      <td>7</td>\n",
              "      <td>0</td>\n",
              "      <td>8</td>\n",
              "    </tr>\n",
              "    <tr>\n",
              "      <th>1</th>\n",
              "      <td>2</td>\n",
              "      <td>Shawshank Redemption</td>\n",
              "      <td>1</td>\n",
              "      <td>1</td>\n",
              "      <td>8</td>\n",
              "      <td>1</td>\n",
              "      <td>6</td>\n",
              "      <td>0</td>\n",
              "      <td>1</td>\n",
              "    </tr>\n",
              "    <tr>\n",
              "      <th>2</th>\n",
              "      <td>3</td>\n",
              "      <td>Soul</td>\n",
              "      <td>1</td>\n",
              "      <td>6</td>\n",
              "      <td>1</td>\n",
              "      <td>3</td>\n",
              "      <td>2</td>\n",
              "      <td>7</td>\n",
              "      <td>0</td>\n",
              "    </tr>\n",
              "    <tr>\n",
              "      <th>3</th>\n",
              "      <td>4</td>\n",
              "      <td>Avengers</td>\n",
              "      <td>10</td>\n",
              "      <td>8</td>\n",
              "      <td>1</td>\n",
              "      <td>1</td>\n",
              "      <td>2</td>\n",
              "      <td>8</td>\n",
              "      <td>0</td>\n",
              "    </tr>\n",
              "    <tr>\n",
              "      <th>4</th>\n",
              "      <td>5</td>\n",
              "      <td>Inception</td>\n",
              "      <td>8</td>\n",
              "      <td>0</td>\n",
              "      <td>7</td>\n",
              "      <td>3</td>\n",
              "      <td>7</td>\n",
              "      <td>8</td>\n",
              "      <td>0</td>\n",
              "    </tr>\n",
              "  </tbody>\n",
              "</table>\n",
              "</div>"
            ],
            "text/plain": [
              "   id                  name  action  comedy  ...  romance  thriller  fantasy  drama\n",
              "0   1         The Godfather       5       0  ...        1         7        0      8\n",
              "1   2  Shawshank Redemption       1       1  ...        1         6        0      1\n",
              "2   3                  Soul       1       6  ...        3         2        7      0\n",
              "3   4              Avengers      10       8  ...        1         2        8      0\n",
              "4   5             Inception       8       0  ...        3         7        8      0\n",
              "\n",
              "[5 rows x 9 columns]"
            ]
          },
          "metadata": {
            "tags": []
          },
          "execution_count": 3
        }
      ]
    },
    {
      "cell_type": "markdown",
      "metadata": {
        "id": "t-B5xY-EoxoS"
      },
      "source": [
        "<h4>Ratings</h4>"
      ]
    },
    {
      "cell_type": "code",
      "metadata": {
        "colab": {
          "base_uri": "https://localhost:8080/"
        },
        "id": "nZUBwwsIolf1",
        "outputId": "288a9351-43e9-440a-a4d8-5344b9378bff"
      },
      "source": [
        "ratings=np.array([[\n",
        "    [0, 5, 0, 4, 5, 4, 0, 0, 0, 0], # Madhav\n",
        "    [4, 0, 0, 5, 0, 4, 0, 4, 0, 0], # Rounak Somani\n",
        "    [4, 4, 3, 3, 4, 0, 0, 0, 4, 0], # Tejas\n",
        "    [1, 5, 3, 2, 5, 4, 5, 5, 5, 5], # Mehul\n",
        "    [0, 0, 0, 0, 0, 0, 0, 0, 0, 0], # Satvik\n",
        "    [5, 5, 5, 4, 5, 4, 5, 0, 5, 0], # Sapta\n",
        "    # [4.9, 4.2, 0, 1, 4.5, 4, 0, 2.5, 4.7, 0], # Janmansh\n",
        "    [4, 0, 0, 4, 5, 4, 0, 0, 3, 0], # Samyak\n",
        "    [0, 0, 0, 4, 3, 4, 0, 0, 0, 0], # Sashank\n",
        "    [0, 5, 0, 3, 5, 0, 0, 0, 3, 0], # Pratham\n",
        "    [0, 5, 0, 4, 5, 0, 0, 0, 0, 0], # Samhita\n",
        "    # [0, 4, 0, 4, 5, 4, 0, 0, 4, 0], # Rakshit\n",
        "]])\n",
        "\n",
        "print(ratings)\n",
        "print(ratings.shape)"
      ],
      "execution_count": 4,
      "outputs": [
        {
          "output_type": "stream",
          "text": [
            "[[[0 5 0 4 5 4 0 0 0 0]\n",
            "  [4 0 0 5 0 4 0 4 0 0]\n",
            "  [4 4 3 3 4 0 0 0 4 0]\n",
            "  [1 5 3 2 5 4 5 5 5 5]\n",
            "  [0 0 0 0 0 0 0 0 0 0]\n",
            "  [5 5 5 4 5 4 5 0 5 0]\n",
            "  [4 0 0 4 5 4 0 0 3 0]\n",
            "  [0 0 0 4 3 4 0 0 0 0]\n",
            "  [0 5 0 3 5 0 0 0 3 0]\n",
            "  [0 5 0 4 5 0 0 0 0 0]]]\n",
            "(1, 10, 10)\n"
          ],
          "name": "stdout"
        }
      ]
    },
    {
      "cell_type": "markdown",
      "metadata": {
        "id": "uxzxRQvan__1"
      },
      "source": [
        "<h3>Extracting Features</h3>"
      ]
    },
    {
      "cell_type": "code",
      "metadata": {
        "colab": {
          "base_uri": "https://localhost:8080/"
        },
        "id": "EylJ1r2vn_nO",
        "outputId": "77ead389-76e6-4504-aa92-bd2f566f8b97"
      },
      "source": [
        "# Some Constants\n",
        "user_count = ratings.shape[1]\n",
        "movie_count = df.shape[0]\n",
        "k = df.shape[1] - 2 # Number of genres\n",
        "\n",
        "print('Users:', user_count)\n",
        "print('Movies:', movie_count)"
      ],
      "execution_count": 5,
      "outputs": [
        {
          "output_type": "stream",
          "text": [
            "Users: 10\n",
            "Movies: 10\n"
          ],
          "name": "stdout"
        }
      ]
    },
    {
      "cell_type": "code",
      "metadata": {
        "colab": {
          "base_uri": "https://localhost:8080/"
        },
        "id": "_qp5AZfNtLW7",
        "outputId": "d7b9d8a0-3cbc-45ab-8397-0ad159bc2093"
      },
      "source": [
        "V = df.to_numpy()[:, 2:]\n",
        "V /= 10 # Normalization\n",
        "print(V)"
      ],
      "execution_count": 6,
      "outputs": [
        {
          "output_type": "stream",
          "text": [
            "[[0.5 0.0 1.0 0.1 0.7 0.0 0.8]\n",
            " [0.1 0.1 0.8 0.1 0.6 0.0 0.1]\n",
            " [0.1 0.6 0.1 0.3 0.2 0.7 0.0]\n",
            " [1.0 0.8 0.1 0.1 0.2 0.8 0.0]\n",
            " [0.8 0.0 0.7 0.3 0.7 0.8 0.0]\n",
            " [0.1 0.3 0.3 1.0 0.1 0.0 0.8]\n",
            " [0.0 0.0 0.6 0.0 0.0 0.0 0.9]\n",
            " [0.9 0.8 0.9 0.6 0.8 0.0 0.1]\n",
            " [0.9 0.0 0.9 0.3 0.9 0.0 0.0]\n",
            " [0.9 0.0 0.3 0.0 0.9 1.0 0.0]]\n"
          ],
          "name": "stdout"
        }
      ]
    },
    {
      "cell_type": "markdown",
      "metadata": {
        "id": "B7LYa88hzxNx"
      },
      "source": [
        "<h3>Taking Input</h3>"
      ]
    },
    {
      "cell_type": "code",
      "metadata": {
        "colab": {
          "base_uri": "https://localhost:8080/"
        },
        "id": "TmTXcAJkzxj3",
        "outputId": "120c88fe-da10-4917-ab57-f93cc486ed6d"
      },
      "source": [
        "print(\"Please enter your ratings (0-5) for the following movies (0 if not seen):\")\n",
        "input_ratings = np.zeros(movie_count)\n",
        "for i in range(movie_count):\n",
        "  #  3\n",
        "     print(df['name'][i], \":\")\n",
        "     input_ratings[i] = input() \n",
        "\n",
        "input_ratings = np.array([[\n",
        "  input_ratings\n",
        "]])\n",
        "\n",
        "print(input_ratings)"
      ],
      "execution_count": 8,
      "outputs": [
        {
          "output_type": "stream",
          "text": [
            "Please enter your ratings (0-5) for the following movies (0 if not seen):\n",
            "The Godfather :\n",
            "0\n",
            "Shawshank Redemption :\n",
            "4\n",
            "Soul :\n",
            "0\n",
            "Avengers :\n",
            "4\n",
            "Inception :\n",
            "5\n",
            "Titanic :\n",
            "4\n",
            "Schindler's List :\n",
            "0\n",
            "American Made :\n",
            "0\n",
            "Fight Club :\n",
            "4\n",
            "Kingsglaive :\n",
            "0\n",
            "[[[0. 4. 0. 4. 5. 4. 0. 0. 4. 0.]]]\n"
          ],
          "name": "stdout"
        }
      ]
    },
    {
      "cell_type": "code",
      "metadata": {
        "colab": {
          "base_uri": "https://localhost:8080/"
        },
        "id": "RP6wUfky2FWD",
        "outputId": "9d059436-c3d0-4e5a-dcb0-e27cf698b04b"
      },
      "source": [
        "ratings = np.hstack((ratings, input_ratings))\n",
        "print(ratings)"
      ],
      "execution_count": 9,
      "outputs": [
        {
          "output_type": "stream",
          "text": [
            "[[[0. 5. 0. 4. 5. 4. 0. 0. 0. 0.]\n",
            "  [4. 0. 0. 5. 0. 4. 0. 4. 0. 0.]\n",
            "  [4. 4. 3. 3. 4. 0. 0. 0. 4. 0.]\n",
            "  [1. 5. 3. 2. 5. 4. 5. 5. 5. 5.]\n",
            "  [0. 0. 0. 0. 0. 0. 0. 0. 0. 0.]\n",
            "  [5. 5. 5. 4. 5. 4. 5. 0. 5. 0.]\n",
            "  [4. 0. 0. 4. 5. 4. 0. 0. 3. 0.]\n",
            "  [0. 0. 0. 4. 3. 4. 0. 0. 0. 0.]\n",
            "  [0. 5. 0. 3. 5. 0. 0. 0. 3. 0.]\n",
            "  [0. 5. 0. 4. 5. 0. 0. 0. 0. 0.]\n",
            "  [0. 4. 0. 4. 5. 4. 0. 0. 4. 0.]]]\n"
          ],
          "name": "stdout"
        }
      ]
    },
    {
      "cell_type": "markdown",
      "metadata": {
        "id": "EEmnFn4D4ZXD"
      },
      "source": [
        "<h3>Training</h3>"
      ]
    },
    {
      "cell_type": "code",
      "metadata": {
        "id": "2zjuRo3e4ZFw"
      },
      "source": [
        "movies = tf.Variable(V, dtype=tf.float64)\n",
        "users  = tf.Variable(np.random.rand(user_count + 1,k), dtype=tf.float64)"
      ],
      "execution_count": 10,
      "outputs": []
    },
    {
      "cell_type": "code",
      "metadata": {
        "id": "Hbe0eaQQ4r5S"
      },
      "source": [
        "mask = np.ma.masked_not_equal(ratings, 0).mask\n",
        "\n",
        "ratings = tf.constant(ratings, dtype=tf.float64)\n",
        "\n",
        "optimizer = tf.optimizers.Adam()"
      ],
      "execution_count": 12,
      "outputs": []
    },
    {
      "cell_type": "code",
      "metadata": {
        "id": "x5YVIBDR461o"
      },
      "source": [
        "trainable_weights = [users, movies]"
      ],
      "execution_count": 13,
      "outputs": []
    },
    {
      "cell_type": "code",
      "metadata": {
        "colab": {
          "base_uri": "https://localhost:8080/"
        },
        "id": "eseJUPRg5FXH",
        "outputId": "cc221738-40b2-4aed-b278-4ac1af72b363"
      },
      "source": [
        "steps = 2000\n",
        "\n",
        "for step in range(steps):\n",
        "  with tf.GradientTape() as tape:\n",
        "    predictions = tf.matmul(users, movies, transpose_b=True)\n",
        "    predictions = tf.nn.relu(predictions)\n",
        "    predictions = predictions*mask\n",
        "\n",
        "    loss = tf.losses.mean_squared_error(ratings, predictions)\n",
        "        \n",
        "    gradients = tape.gradient(loss, trainable_weights)\n",
        "    optimizer.apply_gradients(zip(gradients, trainable_weights))\n",
        "\n",
        "predictions = tf.matmul(users, movies, transpose_b=True)\n",
        "predictions = tf.nn.relu(predictions)\n",
        "\n",
        "predictions = np.rint(predictions.numpy())\n",
        "\n",
        "print(predictions)"
      ],
      "execution_count": 14,
      "outputs": [
        {
          "output_type": "stream",
          "text": [
            "[[4. 5. 5. 4. 5. 4. 5. 5. 4. 6.]\n",
            " [4. 5. 4. 5. 5. 4. 5. 4. 5. 6.]\n",
            " [4. 4. 3. 3. 4. 4. 5. 4. 4. 5.]\n",
            " [1. 4. 3. 2. 5. 4. 5. 5. 5. 5.]\n",
            " [3. 4. 3. 3. 4. 3. 3. 4. 3. 4.]\n",
            " [5. 5. 5. 4. 5. 4. 5. 5. 4. 6.]\n",
            " [4. 5. 4. 4. 5. 4. 5. 4. 4. 5.]\n",
            " [2. 3. 3. 4. 3. 4. 5. 3. 3. 4.]\n",
            " [4. 5. 4. 3. 5. 4. 5. 4. 4. 5.]\n",
            " [3. 5. 4. 4. 5. 5. 6. 5. 4. 6.]\n",
            " [3. 4. 4. 4. 5. 4. 5. 4. 4. 5.]]\n"
          ],
          "name": "stdout"
        }
      ]
    },
    {
      "cell_type": "markdown",
      "metadata": {
        "id": "c4XJbA3569SX"
      },
      "source": [
        "<h3>Predictions</h3>"
      ]
    },
    {
      "cell_type": "code",
      "metadata": {
        "colab": {
          "base_uri": "https://localhost:8080/"
        },
        "id": "Q1HqAasW67oG",
        "outputId": "81876148-2615-486d-e5da-cfdc8ddab580"
      },
      "source": [
        "recs = {}\n",
        "\n",
        "for i, pred in enumerate(predictions[-1]):\n",
        "  if input_ratings[0][0][i] == 0:\n",
        "    recs[df['name'][i]] = pred\n",
        "\n",
        "recs = dict(sorted(recs.items(), key=lambda x:x[1]))\n",
        "recs = list(recs.keys())[-5:]\n",
        "list.reverse(recs)\n",
        "\n",
        "print(\"Your recommendations are:\")\n",
        "for i, rec in enumerate(recs):\n",
        "  print(f\"\\t{i + 1} {rec}\")"
      ],
      "execution_count": 15,
      "outputs": [
        {
          "output_type": "stream",
          "text": [
            "Your recommendations are:\n",
            "\t1 Kingsglaive\n",
            "\t2 Schindler's List\n",
            "\t3 American Made\n",
            "\t4 Soul\n",
            "\t5 The Godfather\n"
          ],
          "name": "stdout"
        }
      ]
    }
  ]
}