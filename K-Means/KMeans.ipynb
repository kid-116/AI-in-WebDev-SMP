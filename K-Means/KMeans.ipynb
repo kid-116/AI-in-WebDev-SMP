{
  "nbformat": 4,
  "nbformat_minor": 0,
  "metadata": {
    "colab": {
      "name": "AI-in-WebDev_K-Means.ipynb",
      "provenance": [],
      "collapsed_sections": [],
      "authorship_tag": "ABX9TyMOOfxcsMSYpdno4fjATwIP",
      "include_colab_link": true
    },
    "kernelspec": {
      "name": "python3",
      "display_name": "Python 3"
    },
    "language_info": {
      "name": "python"
    }
  },
  "cells": [
    {
      "cell_type": "markdown",
      "metadata": {
        "id": "view-in-github",
        "colab_type": "text"
      },
      "source": [
        "<a href=\"https://colab.research.google.com/github/kid-116/AI-in-WebDev-SMP/blob/main/K-Means/KMeans.ipynb\" target=\"_parent\"><img src=\"https://colab.research.google.com/assets/colab-badge.svg\" alt=\"Open In Colab\"/></a>"
      ]
    },
    {
      "cell_type": "markdown",
      "metadata": {
        "id": "Q4k4yEVpl_Ps"
      },
      "source": [
        "<h1>K-Means Clustering</h1>\n",
        "<h2>by kid116</h2>"
      ]
    },
    {
      "cell_type": "markdown",
      "metadata": {
        "id": "Q-gxlj68mc6j"
      },
      "source": [
        "<h3>Importing Libraries</h3>"
      ]
    },
    {
      "cell_type": "code",
      "metadata": {
        "id": "DeF4T9v7mf7h"
      },
      "source": [
        "import numpy as np\n",
        "import matplotlib.pyplot as plt\n",
        "import random"
      ],
      "execution_count": 355,
      "outputs": []
    },
    {
      "cell_type": "markdown",
      "metadata": {
        "id": "MjGOF858mMPO"
      },
      "source": [
        "<h3>The Dataset</h3>"
      ]
    },
    {
      "cell_type": "code",
      "metadata": {
        "id": "E3sMZvRnmtBm"
      },
      "source": [
        "# Constants\n",
        "m = 20"
      ],
      "execution_count": 356,
      "outputs": []
    },
    {
      "cell_type": "code",
      "metadata": {
        "colab": {
          "base_uri": "https://localhost:8080/"
        },
        "id": "cZID6x9kms5e",
        "outputId": "a6e4b0cf-e4ec-4336-f275-ccc449f23c8d"
      },
      "source": [
        "IQs = np.random.rand(1, m) # Random values in range [0, 1)\n",
        "IQs *= 200 # IQ ranges from 0 - 200\n",
        "print(IQs)"
      ],
      "execution_count": 357,
      "outputs": [
        {
          "output_type": "stream",
          "text": [
            "[[185.6465373  151.06464448  41.26239291 186.4181378  153.59414358\n",
            "  120.10024061  13.76182831 171.42007982 147.58816774 119.2038085\n",
            "  104.48813398 183.56586466  66.23339475  13.10153505  89.14452189\n",
            "   60.025784    88.22674397 126.27058793   2.33264615 145.28561924]]\n"
          ],
          "name": "stdout"
        }
      ]
    },
    {
      "cell_type": "code",
      "metadata": {
        "colab": {
          "base_uri": "https://localhost:8080/"
        },
        "id": "sXrQFahhmFYF",
        "outputId": "6473ec63-eda0-48cc-e594-7cddb436ddbf"
      },
      "source": [
        "EQs = np.random.rand(1, m)\n",
        "EQs *= 200 # EQ also ranges from 0 - 200 it seems\n",
        "print(EQs)"
      ],
      "execution_count": 358,
      "outputs": [
        {
          "output_type": "stream",
          "text": [
            "[[  9.89368106 199.22801093 171.36732136  63.94955027 172.59593296\n",
            "  184.7454832  107.25106581  84.50413206 135.46001069  87.06664443\n",
            "   55.38022389 170.70136821  26.0970917  102.82910086  28.34264984\n",
            "  112.98765648 185.70621231 120.66207216 106.52812746 168.02805578]]\n"
          ],
          "name": "stdout"
        }
      ]
    },
    {
      "cell_type": "code",
      "metadata": {
        "colab": {
          "base_uri": "https://localhost:8080/"
        },
        "id": "RZtH86KSpC2O",
        "outputId": "9456dd44-cbe9-4e38-f571-a42f9a39017c"
      },
      "source": [
        "X = np.vstack((IQs, EQs)).T\n",
        "print(X)"
      ],
      "execution_count": 359,
      "outputs": [
        {
          "output_type": "stream",
          "text": [
            "[[185.6465373    9.89368106]\n",
            " [151.06464448 199.22801093]\n",
            " [ 41.26239291 171.36732136]\n",
            " [186.4181378   63.94955027]\n",
            " [153.59414358 172.59593296]\n",
            " [120.10024061 184.7454832 ]\n",
            " [ 13.76182831 107.25106581]\n",
            " [171.42007982  84.50413206]\n",
            " [147.58816774 135.46001069]\n",
            " [119.2038085   87.06664443]\n",
            " [104.48813398  55.38022389]\n",
            " [183.56586466 170.70136821]\n",
            " [ 66.23339475  26.0970917 ]\n",
            " [ 13.10153505 102.82910086]\n",
            " [ 89.14452189  28.34264984]\n",
            " [ 60.025784   112.98765648]\n",
            " [ 88.22674397 185.70621231]\n",
            " [126.27058793 120.66207216]\n",
            " [  2.33264615 106.52812746]\n",
            " [145.28561924 168.02805578]]\n"
          ],
          "name": "stdout"
        }
      ]
    },
    {
      "cell_type": "code",
      "metadata": {
        "colab": {
          "base_uri": "https://localhost:8080/",
          "height": 295
        },
        "id": "Xh-kHk10oK3n",
        "outputId": "b59acb20-3e51-4cb0-e5b1-50214f900f47"
      },
      "source": [
        "plt.scatter(IQs, EQs)\n",
        "plt.xlabel(\"IQ\")\n",
        "plt.ylabel(\"EQ\")\n",
        "plt.title(\"Randomly Generated Dataset\")\n",
        "plt.show()"
      ],
      "execution_count": 360,
      "outputs": [
        {
          "output_type": "display_data",
          "data": {
            "image/png": "[encoded data removed]",
            "text/plain": [
              "<Figure size 432x288 with 1 Axes>"
            ]
          },
          "metadata": {
            "tags": [],
            "needs_background": "light"
          }
        }
      ]
    },
    {
      "cell_type": "markdown",
      "metadata": {
        "id": "iKRQLv3IqSRn"
      },
      "source": [
        "<h3>Methods for K-Means</h3>"
      ]
    },
    {
      "cell_type": "code",
      "metadata": {
        "id": "GlQgdVa_uFhp"
      },
      "source": [
        "def calc_dist(x1, x2):\n",
        "  return abs(x1[0] - x2[0]) + abs(x1[1] - x2[1])"
      ],
      "execution_count": 361,
      "outputs": []
    },
    {
      "cell_type": "code",
      "metadata": {
        "id": "L4HDgfdJqR8Z"
      },
      "source": [
        "def run_kmeans(X, k):\n",
        "  # Some constants\n",
        "  m = X.shape[0]\n",
        "  n = X.shape[1]\n",
        "  # Initializing centroids\n",
        "  centroids = np.random.rand(k, n)\n",
        "  cluster_id = np.ones(m) * -1\n",
        "  # Training\n",
        "  while True:\n",
        "    cost = 0\n",
        "    # Assigning to centroids\n",
        "    for p in range(m):\n",
        "      min_dist = float('inf')\n",
        "      for c in range(k):\n",
        "        dist = calc_dist(X[p], centroids[c])\n",
        "        if dist < min_dist:\n",
        "          min_dist = dist\n",
        "          cluster_id[p] = c\n",
        "      cost += min_dist\n",
        "    cost /= m\n",
        "    # print(cost)\n",
        "    # Calculating new centroids\n",
        "    old_centroids = np.copy(centroids)\n",
        "    for c in range(k):\n",
        "      l = 1 # Number of points assigned to the cluster\n",
        "      for p in range(m):\n",
        "        if cluster_id[p] == c:\n",
        "          centroids[c] += X[p]\n",
        "          l = l + 1\n",
        "      centroids[c] /= l\n",
        "    div = np.sum(np.absolute(centroids - old_centroids))\n",
        "    # print(div, end=\" \")\n",
        "    if div == 0:\n",
        "      # print('\\n', div)\n",
        "      break\n",
        "  return cost, cluster_id, centroids    "
      ],
      "execution_count": 372,
      "outputs": []
    },
    {
      "cell_type": "markdown",
      "metadata": {
        "id": "PzVprVhIfv_5"
      },
      "source": [
        "<h3>Choosing the Best k</h3>"
      ]
    },
    {
      "cell_type": "code",
      "metadata": {
        "colab": {
          "base_uri": "https://localhost:8080/",
          "height": 279
        },
        "id": "lsoRn4zoq1E5",
        "outputId": "6208f9f2-17ee-429f-8405-a331afe068df"
      },
      "source": [
        "costs = []\n",
        "ks = np.arange(1, 21, 1)\n",
        "\n",
        "for k in ks:\n",
        "  cost, cluster_id, centroids = run_kmeans(X, k)\n",
        "  costs.append(cost)\n",
        "\n",
        "plt.plot(ks, costs)\n",
        "plt.xlabel(\"k\")\n",
        "plt.ylabel(\"Cost\")\n",
        "plt.xticks(np.arange(1, 21, 2))\n",
        "plt.show()"
      ],
      "execution_count": 376,
      "outputs": [
        {
          "output_type": "display_data",
          "data": {
            "image/png": "[encoded data removed]",
            "text/plain": [
              "<Figure size 432x288 with 1 Axes>"
            ]
          },
          "metadata": {
            "tags": [],
            "needs_background": "light"
          }
        }
      ]
    },
    {
      "cell_type": "markdown",
      "metadata": {
        "id": "yYwsiTOwf0Xv"
      },
      "source": [
        "<h3>Training</h3>"
      ]
    },
    {
      "cell_type": "code",
      "metadata": {
        "id": "dCHyuJI0WtOg"
      },
      "source": [
        "k = 3\n",
        "cost, cluster_id, centroids = run_kmeans(X, k)"
      ],
      "execution_count": 377,
      "outputs": []
    },
    {
      "cell_type": "markdown",
      "metadata": {
        "id": "KWc1MQXef6jk"
      },
      "source": [
        "<h3>Plotting</h3>"
      ]
    },
    {
      "cell_type": "code",
      "metadata": {
        "id": "Rq5AgytWcWzg"
      },
      "source": [
        "colmap = {\n",
        "    0: 'b',\n",
        "    1: 'r',\n",
        "    2: 'g',\n",
        "    3: 'c',\n",
        "    4: 'm',\n",
        "    5: 'y',\n",
        "    6: 'k',\n",
        "}"
      ],
      "execution_count": 378,
      "outputs": []
    },
    {
      "cell_type": "code",
      "metadata": {
        "colab": {
          "base_uri": "https://localhost:8080/",
          "height": 265
        },
        "id": "XQqYptT9e2hL",
        "outputId": "436573b7-676e-4a97-ba7c-609dae0c49e6"
      },
      "source": [
        "# for c in range(k):\n",
        "#   plt.scatter(centroids[c][0], centroids[c][1], c=colmap[c])\n",
        "for p in range(m):\n",
        "  plt.scatter(X[p][0], X[p][1], c=colmap[cluster_id[p]], alpha=0.3)\n",
        "\n",
        "plt.show()"
      ],
      "execution_count": 379,
      "outputs": [
        {
          "output_type": "display_data",
          "data": {
            "image/png": "[encoded data removed]",
            "text/plain": [
              "<Figure size 432x288 with 1 Axes>"
            ]
          },
          "metadata": {
            "tags": [],
            "needs_background": "light"
          }
        }
      ]
    },
    {
      "cell_type": "code",
      "metadata": {
        "colab": {
          "base_uri": "https://localhost:8080/",
          "height": 265
        },
        "id": "SHpYRvxpez5M",
        "outputId": "89b90a1c-31cf-4053-ef3c-d6cb226e259a"
      },
      "source": [
        "for c in range(k):\n",
        "  plt.scatter(centroids[c][0], centroids[c][1], c=colmap[c])\n",
        "for p in range(m):\n",
        "  plt.scatter(X[p][0], X[p][1], c=colmap[cluster_id[p]], alpha=0.3)\n",
        "\n",
        "plt.show()"
      ],
      "execution_count": 380,
      "outputs": [
        {
          "output_type": "display_data",
          "data": {
            "image/png": "[encoded data removed]",
            "text/plain": [
              "<Figure size 432x288 with 1 Axes>"
            ]
          },
          "metadata": {
            "tags": [],
            "needs_background": "light"
          }
        }
      ]
    }
  ]
}