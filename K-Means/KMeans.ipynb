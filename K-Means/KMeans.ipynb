{
  "nbformat": 4,
  "nbformat_minor": 0,
  "metadata": {
    "colab": {
      "name": "AI-in-WebDev_K-Means.ipynb",
      "provenance": [],
      "collapsed_sections": [],
      "authorship_tag": "ABX9TyMv7IFdNvlnNb9NhUlqnHK8",
      "include_colab_link": true
    },
    "kernelspec": {
      "name": "python3",
      "display_name": "Python 3"
    },
    "language_info": {
      "name": "python"
    }
  },
  "cells": [
    {
      "cell_type": "markdown",
      "metadata": {
        "id": "view-in-github",
        "colab_type": "text"
      },
      "source": [
        "<a href=\"https://colab.research.google.com/github/kid-116/AI-in-WebDev-SMP/blob/main/K-Means/KMeans.ipynb\" target=\"_parent\"><img src=\"https://colab.research.google.com/assets/colab-badge.svg\" alt=\"Open In Colab\"/></a>"
      ]
    },
    {
      "cell_type": "markdown",
      "metadata": {
        "id": "Q4k4yEVpl_Ps"
      },
      "source": [
        "<h1>K-Means Clustering</h1>\n",
        "<h2>by kid116</h2>"
      ]
    },
    {
      "cell_type": "markdown",
      "metadata": {
        "id": "Q-gxlj68mc6j"
      },
      "source": [
        "<h3>Importing Libraries</h3>"
      ]
    },
    {
      "cell_type": "code",
      "metadata": {
        "id": "DeF4T9v7mf7h"
      },
      "source": [
        "import numpy as np\n",
        "import matplotlib.pyplot as plt\n",
        "import random"
      ],
      "execution_count": 278,
      "outputs": []
    },
    {
      "cell_type": "markdown",
      "metadata": {
        "id": "MjGOF858mMPO"
      },
      "source": [
        "<h3>The Dataset</h3>"
      ]
    },
    {
      "cell_type": "code",
      "metadata": {
        "id": "E3sMZvRnmtBm"
      },
      "source": [
        "# Constants\n",
        "m = 20"
      ],
      "execution_count": 279,
      "outputs": []
    },
    {
      "cell_type": "code",
      "metadata": {
        "colab": {
          "base_uri": "https://localhost:8080/"
        },
        "id": "cZID6x9kms5e",
        "outputId": "a5e343ff-8e86-4e9b-c466-e14135b679ea"
      },
      "source": [
        "IQs = np.random.rand(1, m) # Random values in range [0, 1)\n",
        "IQs *= 200 # IQ ranges from 0 - 200\n",
        "print(IQs)"
      ],
      "execution_count": 280,
      "outputs": [
        {
          "output_type": "stream",
          "text": [
            "[[ 72.75936484  94.3406767  123.73218364 146.29521071 182.58966644\n",
            "  152.58798828   6.55213315  80.43427606  36.85996784  61.71914604\n",
            "  154.46811486 150.79482977  56.88640216 127.69763089  22.61359482\n",
            "  110.75965573 196.94321056 154.58004615  72.63980329 160.10164198]]\n"
          ],
          "name": "stdout"
        }
      ]
    },
    {
      "cell_type": "code",
      "metadata": {
        "colab": {
          "base_uri": "https://localhost:8080/"
        },
        "id": "sXrQFahhmFYF",
        "outputId": "4870dd18-d5ad-4981-9a6a-d0ba79e76016"
      },
      "source": [
        "EQs = np.random.rand(1, m)\n",
        "EQs *= 200 # EQ also ranges from 0 - 200 it seems\n",
        "print(EQs)"
      ],
      "execution_count": 281,
      "outputs": [
        {
          "output_type": "stream",
          "text": [
            "[[155.07904337 168.65687952 105.850196    37.8827493   66.3582058\n",
            "   55.2334083  159.01595217  22.24469405  69.36651876 149.91463055\n",
            "  139.45383559 199.58315887 130.2102239  145.60667198   2.21752468\n",
            "    0.93574081  62.93273276   0.202414   150.86494772 191.08823968]]\n"
          ],
          "name": "stdout"
        }
      ]
    },
    {
      "cell_type": "code",
      "metadata": {
        "colab": {
          "base_uri": "https://localhost:8080/"
        },
        "id": "RZtH86KSpC2O",
        "outputId": "f7f50fa2-1232-4453-cb40-7c583ae6fd51"
      },
      "source": [
        "X = np.vstack((IQs, EQs)).T\n",
        "print(X)"
      ],
      "execution_count": 282,
      "outputs": [
        {
          "output_type": "stream",
          "text": [
            "[[ 72.75936484 155.07904337]\n",
            " [ 94.3406767  168.65687952]\n",
            " [123.73218364 105.850196  ]\n",
            " [146.29521071  37.8827493 ]\n",
            " [182.58966644  66.3582058 ]\n",
            " [152.58798828  55.2334083 ]\n",
            " [  6.55213315 159.01595217]\n",
            " [ 80.43427606  22.24469405]\n",
            " [ 36.85996784  69.36651876]\n",
            " [ 61.71914604 149.91463055]\n",
            " [154.46811486 139.45383559]\n",
            " [150.79482977 199.58315887]\n",
            " [ 56.88640216 130.2102239 ]\n",
            " [127.69763089 145.60667198]\n",
            " [ 22.61359482   2.21752468]\n",
            " [110.75965573   0.93574081]\n",
            " [196.94321056  62.93273276]\n",
            " [154.58004615   0.202414  ]\n",
            " [ 72.63980329 150.86494772]\n",
            " [160.10164198 191.08823968]]\n"
          ],
          "name": "stdout"
        }
      ]
    },
    {
      "cell_type": "code",
      "metadata": {
        "colab": {
          "base_uri": "https://localhost:8080/",
          "height": 295
        },
        "id": "Xh-kHk10oK3n",
        "outputId": "0a01ef1a-144e-4328-ffc3-fcfee6d1e918"
      },
      "source": [
        "plt.scatter(IQs, EQs)\n",
        "plt.xlabel(\"IQ\")\n",
        "plt.ylabel(\"EQ\")\n",
        "plt.title(\"Randomly Generated Dataset\")\n",
        "plt.show()"
      ],
      "execution_count": 283,
      "outputs": [
        {
          "output_type": "display_data",
          "data": {
            "image/png": "[encoded data removed]",
            "text/plain": [
              "<Figure size 432x288 with 1 Axes>"
            ]
          },
          "metadata": {
            "tags": [],
            "needs_background": "light"
          }
        }
      ]
    },
    {
      "cell_type": "markdown",
      "metadata": {
        "id": "iKRQLv3IqSRn"
      },
      "source": [
        "<h3>Methods for K-Means</h3>"
      ]
    },
    {
      "cell_type": "code",
      "metadata": {
        "id": "GlQgdVa_uFhp"
      },
      "source": [
        "def calc_dist(x1, x2):\n",
        "  return abs(x1[0] - x2[0]) + abs(x1[1] - x2[1])"
      ],
      "execution_count": 284,
      "outputs": []
    },
    {
      "cell_type": "code",
      "metadata": {
        "id": "L4HDgfdJqR8Z"
      },
      "source": [
        "def run_kmeans(X, k):\n",
        "  # Some constants\n",
        "  m = X.shape[0]\n",
        "  n = X.shape[1]\n",
        "  # Initializing centroids\n",
        "  centroids = np.random.rand(k, n)\n",
        "  cluster_id = np.ones(m) * -1\n",
        "  # Training\n",
        "  while True:\n",
        "    cost = 0\n",
        "    # Assigning to centroids\n",
        "    for p in range(m):\n",
        "      min_dist = float('inf')\n",
        "      for c in range(k):\n",
        "        dist = calc_dist(X[p], centroids[c])\n",
        "        if dist < min_dist:\n",
        "          min_dist = dist\n",
        "          cluster_id[p] = c\n",
        "      cost += min_dist\n",
        "    cost /= m\n",
        "    # print(cost)\n",
        "    # Calculating new centroids\n",
        "    old_centroids = np.copy(centroids)\n",
        "    for c in range(k):\n",
        "      l = 1 # Number of points assigned to the cluster\n",
        "      for p in range(m):\n",
        "        if cluster_id[p] == c:\n",
        "          centroids[c] += X[p]\n",
        "          l = l + 1\n",
        "      centroids[c] /= l\n",
        "    div = np.sum(np.absolute(centroids - old_centroids))\n",
        "    # print(div, end=\" \")\n",
        "    if div == 0:\n",
        "      # print('\\n', div)\n",
        "      break\n",
        "  return cost, cluster_id, centroids    "
      ],
      "execution_count": 304,
      "outputs": []
    },
    {
      "cell_type": "markdown",
      "metadata": {
        "id": "PzVprVhIfv_5"
      },
      "source": [
        "<h3>Choosing the Best k</h3>"
      ]
    },
    {
      "cell_type": "code",
      "metadata": {
        "colab": {
          "base_uri": "https://localhost:8080/",
          "height": 279
        },
        "id": "lsoRn4zoq1E5",
        "outputId": "798f1110-2eb2-40ef-8b67-a205ff52e19c"
      },
      "source": [
        "costs = []\n",
        "ks = np.arange(1, 21, 1)\n",
        "\n",
        "for k in ks:\n",
        "  cost, cluster_id, centroids = run_kmeans(X, k)\n",
        "  costs.append(cost)\n",
        "\n",
        "plt.plot(ks, costs)\n",
        "plt.xlabel(\"k\")\n",
        "plt.ylabel(\"Cost\")\n",
        "plt.xticks(np.arange(1, 21, 1))\n",
        "plt.show()"
      ],
      "execution_count": 316,
      "outputs": [
        {
          "output_type": "display_data",
          "data": {
            "image/png": "[encoded data removed]",
            "text/plain": [
              "<Figure size 432x288 with 1 Axes>"
            ]
          },
          "metadata": {
            "tags": [],
            "needs_background": "light"
          }
        }
      ]
    },
    {
      "cell_type": "markdown",
      "metadata": {
        "id": "yYwsiTOwf0Xv"
      },
      "source": [
        "<h3>Training</h3>"
      ]
    },
    {
      "cell_type": "code",
      "metadata": {
        "id": "dCHyuJI0WtOg"
      },
      "source": [
        "k = 4\n",
        "cost, cluster_id, centroids = run_kmeans(X, k)"
      ],
      "execution_count": 306,
      "outputs": []
    },
    {
      "cell_type": "markdown",
      "metadata": {
        "id": "KWc1MQXef6jk"
      },
      "source": [
        "<h3>Plotting</h3>"
      ]
    },
    {
      "cell_type": "code",
      "metadata": {
        "id": "Rq5AgytWcWzg"
      },
      "source": [
        "colmap = {\n",
        "    0: 'b',\n",
        "    1: 'r',\n",
        "    2: 'g',\n",
        "    3: 'c',\n",
        "    4: 'm',\n",
        "    5: 'y',\n",
        "    6: 'k',\n",
        "}"
      ],
      "execution_count": 312,
      "outputs": []
    },
    {
      "cell_type": "code",
      "metadata": {
        "colab": {
          "base_uri": "https://localhost:8080/",
          "height": 265
        },
        "id": "XQqYptT9e2hL",
        "outputId": "2e5d94c5-2a5e-4120-e140-986c935ea7ee"
      },
      "source": [
        "# for c in range(k):\n",
        "#   plt.scatter(centroids[c][0], centroids[c][1], c=colmap[c])\n",
        "for p in range(m):\n",
        "  plt.scatter(X[p][0], X[p][1], c=colmap[cluster_id[p]], alpha=0.3)\n",
        "\n",
        "plt.show()"
      ],
      "execution_count": 313,
      "outputs": [
        {
          "output_type": "display_data",
          "data": {
            "image/png": "[encoded data removed]",
            "text/plain": [
              "<Figure size 432x288 with 1 Axes>"
            ]
          },
          "metadata": {
            "tags": [],
            "needs_background": "light"
          }
        }
      ]
    },
    {
      "cell_type": "code",
      "metadata": {
        "colab": {
          "base_uri": "https://localhost:8080/",
          "height": 265
        },
        "id": "SHpYRvxpez5M",
        "outputId": "60005cad-acee-45cd-e95a-e2d567121248"
      },
      "source": [
        "for c in range(k):\n",
        "  plt.scatter(centroids[c][0], centroids[c][1], c=colmap[c])\n",
        "for p in range(m):\n",
        "  plt.scatter(X[p][0], X[p][1], c=colmap[cluster_id[p]], alpha=0.3)\n",
        "\n",
        "plt.show()"
      ],
      "execution_count": 314,
      "outputs": [
        {
          "output_type": "display_data",
          "data": {
            "image/png": "[encoded data removed]",
            "text/plain": [
              "<Figure size 432x288 with 1 Axes>"
            ]
          },
          "metadata": {
            "tags": [],
            "needs_background": "light"
          }
        }
      ]
    }
  ]
}